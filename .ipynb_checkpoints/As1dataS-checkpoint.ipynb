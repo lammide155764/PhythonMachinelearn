{
 "cells": [
  {
   "cell_type": "code",
   "execution_count": 1,
   "id": "203f5eec-8276-409a-8b45-add3940cb704",
   "metadata": {},
   "outputs": [],
   "source": [
    "#example of tuple\n",
    "tuple1 =(3,5,7,11,15)\n",
    "tuple2 =(\"milk\",\"butter\",\"cocoa\")"
   ]
  },
  {
   "cell_type": "code",
   "execution_count": 2,
   "id": "93bd0590-b4b3-4e2a-91f7-54a3c6fddec5",
   "metadata": {},
   "outputs": [
    {
     "name": "stdout",
     "output_type": "stream",
     "text": [
      "(3, 5, 7, 11, 15)\n",
      "('milk', 'butter', 'cocoa')\n"
     ]
    }
   ],
   "source": [
    "print(tuple1)\n",
    "print(tuple2)"
   ]
  },
  {
   "cell_type": "code",
   "execution_count": 3,
   "id": "b4a9f761-3538-4505-a1ad-2aed5e2471b6",
   "metadata": {},
   "outputs": [
    {
     "name": "stdout",
     "output_type": "stream",
     "text": [
      "[3, 5, 7, 11, 15]\n",
      "['milk', 'butter', 'cocoa']\n"
     ]
    }
   ],
   "source": [
    "#example of list\n",
    "list1 = [3,5,7,11,15]\n",
    "list2 =[\"milk\",\"butter\",\"cocoa\"]\n",
    "print (list1)\n",
    "print (list2)"
   ]
  },
  {
   "cell_type": "code",
   "execution_count": 4,
   "id": "e18d2425-a9a8-4055-a438-133a4ce344e9",
   "metadata": {},
   "outputs": [
    {
     "name": "stdout",
     "output_type": "stream",
     "text": [
      "{'milk', 'cocoa', 'butter'}\n",
      "{'cake', 'vanilla', 'egg'}\n"
     ]
    }
   ],
   "source": [
    "#example of set\n",
    "set1 ={\"milk\",\"butter\",\"cocoa\"}\n",
    "set2 ={\"egg\",\"vanilla\",\"cake\"}\n",
    "print (set1)\n",
    "print (set2)\n"
   ]
  },
  {
   "cell_type": "code",
   "execution_count": 5,
   "id": "6ce054d1-d1d2-4854-99c5-3374130cf7a6",
   "metadata": {},
   "outputs": [
    {
     "name": "stdout",
     "output_type": "stream",
     "text": [
      "False\n",
      "False\n",
      "False\n",
      "True\n"
     ]
    }
   ],
   "source": [
    "#example of boolean\n",
    "a =[\"milk\",\"butter\",\"cocoa\"]\n",
    "b =[\"cocoa\",\"butter\",\"milk\"]\n",
    "c = b\n",
    "d = [\"milk\",\"butter\",\"cocoa\"]\n",
    "print( a==b )\n",
    "print( c==a )\n",
    "print (c is a)\n",
    "print (a==d)\n"
   ]
  },
  {
   "cell_type": "code",
   "execution_count": 6,
   "id": "7c1b4271-da5c-45a9-aa65-ae42d8a8fb18",
   "metadata": {},
   "outputs": [
    {
     "name": "stdout",
     "output_type": "stream",
     "text": [
      "lami\n",
      "Paris\n"
     ]
    }
   ],
   "source": [
    "#example of a dictionary\n",
    "person = {\n",
    "    \"name\": \"lami\",\n",
    "    \"age\": 21,\n",
    "    \"city\": \"Paris\"\n",
    "}\n",
    "print(person[\"name\"])    \n",
    "print(person[\"city\"])"
   ]
  },
  {
   "cell_type": "code",
   "execution_count": 7,
   "id": "b2df3b19-e68b-4e8d-8b46-fd784c083596",
   "metadata": {},
   "outputs": [
    {
     "name": "stdout",
     "output_type": "stream",
     "text": [
      "Welcome to IT, Lami!\n"
     ]
    }
   ],
   "source": [
    "#example of strings\n",
    "a = \"Welcome to IT\"\n",
    "b = \"Lami\"\n",
    "print(a + \", \" + b + \"!\")"
   ]
  },
  {
   "cell_type": "code",
   "execution_count": 10,
   "id": "d95a5a85-4ff3-4ae0-818e-80b1ebf01da6",
   "metadata": {},
   "outputs": [
    {
     "name": "stdout",
     "output_type": "stream",
     "text": [
      "Blue\n",
      "<class 'str'>\n"
     ]
    }
   ],
   "source": [
    "#example of string\n",
    "colour = \"Blue\"\n",
    "print(colour)\n",
    "print (type(colour))"
   ]
  },
  {
   "cell_type": "code",
   "execution_count": 16,
   "id": "03880148-a21e-4775-a1f1-c2cc1f4a3deb",
   "metadata": {},
   "outputs": [
    {
     "name": "stdout",
     "output_type": "stream",
     "text": [
      "16\n",
      "<class 'int'>\n"
     ]
    }
   ],
   "source": [
    "#example of integer\n",
    "date = 25-9\n",
    "print(date)\n",
    "print (type(date))"
   ]
  },
  {
   "cell_type": "code",
   "execution_count": 17,
   "id": "e6331aba-69f5-45a1-8769-53a6f770f23d",
   "metadata": {},
   "outputs": [
    {
     "name": "stdout",
     "output_type": "stream",
     "text": [
      "5.5\n"
     ]
    }
   ],
   "source": [
    "#example of float\n",
    "c = 2.0\n",
    "d = 3.5\n",
    "total = c + d\n",
    "print(total)  "
   ]
  },
  {
   "cell_type": "code",
   "execution_count": 18,
   "id": "4d7b7ef8-0e41-4434-81eb-2b6563818c91",
   "metadata": {},
   "outputs": [
    {
     "name": "stdout",
     "output_type": "stream",
     "text": [
      "(3+4j)\n",
      "<class 'complex'>\n"
     ]
    }
   ],
   "source": [
    "#example of complex number\n",
    "num = 3 + 4j\n",
    "print(num)              \n",
    "print(type(num))"
   ]
  },
  {
   "cell_type": "code",
   "execution_count": null,
   "id": "bd403571-49d7-43dd-bb05-245d81a3d530",
   "metadata": {},
   "outputs": [],
   "source": []
  }
 ],
 "metadata": {
  "kernelspec": {
   "display_name": "Python 3 (ipykernel)",
   "language": "python",
   "name": "python3"
  },
  "language_info": {
   "codemirror_mode": {
    "name": "ipython",
    "version": 3
   },
   "file_extension": ".py",
   "mimetype": "text/x-python",
   "name": "python",
   "nbconvert_exporter": "python",
   "pygments_lexer": "ipython3",
   "version": "3.13.7"
  }
 },
 "nbformat": 4,
 "nbformat_minor": 5
}

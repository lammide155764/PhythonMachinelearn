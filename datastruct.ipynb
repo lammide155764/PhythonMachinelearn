{
 "cells": [
  {
   "cell_type": "code",
   "execution_count": 9,
   "id": "17d6e401-9e61-452d-b242-5c15e494fbcf",
   "metadata": {},
   "outputs": [
    {
     "name": "stdout",
     "output_type": "stream",
     "text": [
      "(3, 5, 7, 11, 15)\n",
      "('milk', 'butter', 'cocoa')\n",
      "[3, 5, 7, 11, 15]\n",
      "['milk', 'butter', 'cocoa']\n",
      "{'butter', 'cocoa', 'milk'}\n",
      "{'vanilla', 'cake', 'egg'}\n"
     ]
    }
   ],
   "source": [
    "#example of tuple\n",
    "tuple1 =(3,5,7,11,15)\n",
    "tuple2 =(\"milk\",\"butter\",\"cocoa\")\n",
    "\n",
    "#example of list\n",
    "list1 = [3,5,7,11,15]\n",
    "list2 =[\"milk\",\"butter\",\"cocoa\"]\n",
    "\n",
    "#example of set\n",
    "set1 ={\"milk\",\"butter\",\"cocoa\"}\n",
    "set2 ={\"egg\",\"vanilla\",\"cake\"}\n",
    "\n",
    "print (tuple1)\n",
    "print (tuple2)\n",
    "print (list1)\n",
    "print (list2)\n",
    "print (set1)\n",
    "print (set2)\n"
   ]
  },
  {
   "cell_type": "code",
   "execution_count": 10,
   "id": "00521a70-46f4-41ff-9d8b-4cf8517b2189",
   "metadata": {},
   "outputs": [
    {
     "data": {
      "text/plain": [
       "type"
      ]
     },
     "execution_count": 10,
     "metadata": {},
     "output_type": "execute_result"
    }
   ],
   "source": [
    "type(list)"
   ]
  },
  {
   "cell_type": "code",
   "execution_count": 11,
   "id": "26c067a1-1c1c-4d44-b635-c5e6f2ffaeab",
   "metadata": {},
   "outputs": [
    {
     "data": {
      "text/plain": [
       "type"
      ]
     },
     "execution_count": 11,
     "metadata": {},
     "output_type": "execute_result"
    }
   ],
   "source": [
    "type(tuple)"
   ]
  },
  {
   "cell_type": "code",
   "execution_count": null,
   "id": "2924f6cd-ccd3-4987-845b-5bbddb297cdb",
   "metadata": {},
   "outputs": [],
   "source": []
  }
 ],
 "metadata": {
  "kernelspec": {
   "display_name": "Python 3 (ipykernel)",
   "language": "python",
   "name": "python3"
  },
  "language_info": {
   "codemirror_mode": {
    "name": "ipython",
    "version": 3
   },
   "file_extension": ".py",
   "mimetype": "text/x-python",
   "name": "python",
   "nbconvert_exporter": "python",
   "pygments_lexer": "ipython3",
   "version": "3.13.7"
  }
 },
 "nbformat": 4,
 "nbformat_minor": 5
}
